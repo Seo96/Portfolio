{
 "cells": [
  {
   "cell_type": "code",
   "execution_count": 1,
   "id": "basic-bahrain",
   "metadata": {},
   "outputs": [],
   "source": [
    "from sympy import Integral, Symbol\n",
    "import unittest\n",
    "import math"
   ]
  },
  {
   "cell_type": "code",
   "execution_count": 2,
   "id": "surface-bench",
   "metadata": {},
   "outputs": [],
   "source": [
    "def testcase(f,y,y_begin,y_end) :\n",
    "    return Integral(f, (y, y_begin, y_end)).doit()"
   ]
  },
  {
   "cell_type": "code",
   "execution_count": 3,
   "id": "conservative-japanese",
   "metadata": {},
   "outputs": [
    {
     "name": "stdout",
     "output_type": "stream",
     "text": [
      "Enter the Function : 4*x*y\n",
      "Enter the starting value of the range of x : 0\n",
      "Please enter the last value in the range of x : 1\n",
      "Enter the starting value of the range of y : 0\n",
      "Please enter the last value in the range of y : 1\n",
      "marginal_x :  2*x\n",
      "marginal_y :  2*y\n"
     ]
    }
   ],
   "source": [
    "x = Symbol('x')\n",
    "y = Symbol('y')\n",
    "f = input(\"Enter the Function : \")\n",
    "x_begin = input(\"Enter the starting value of the range of x : \")\n",
    "x_end = input(\"Please enter the last value in the range of x : \")\n",
    "y_begin = input(\"Enter the starting value of the range of y : \")\n",
    "y_end = input(\"Please enter the last value in the range of y : \")\n",
    "marginal_x = Integral(f, (y, y_begin, y_end)).doit()\n",
    "marginal_y = Integral(f, (x, x_begin, x_end)).doit()\n",
    "assert Integral(marginal_x, (x, x_begin, x_end)).doit() == 1\n",
    "class MyTest(unittest.TestCase):\n",
    "    def test(self):\n",
    "        self.assertEqual(testcase(5*y/4, y, x**2, 1), 5*(1-x**4)/8)\n",
    "print(\"marginal_x : \", marginal_x)\n",
    "print(\"marginal_y : \", marginal_y)"
   ]
  },
  {
   "cell_type": "code",
   "execution_count": 4,
   "id": "large-recommendation",
   "metadata": {},
   "outputs": [
    {
     "name": "stdout",
     "output_type": "stream",
     "text": [
      "mean of x :  2/3\n",
      "mean of y :  2/3\n",
      "variance of x :  1/18\n",
      "variance of y :  1/18\n"
     ]
    }
   ],
   "source": [
    "mu_x = Integral(marginal_x * x, (x, x_begin, x_end)).doit()\n",
    "mu_y = Integral(marginal_y * y, (y, y_begin, y_end)).doit()\n",
    "var_x = Integral(marginal_x * (x**2), (x, x_begin, x_end)).doit() - mu_x**2\n",
    "var_y = Integral(marginal_y * (y**2), (y, y_begin, y_end)).doit() - mu_y**2\n",
    "print(\"mean of x : \", mu_x)\n",
    "print(\"mean of y : \", mu_y)\n",
    "print(\"variance of x : \", var_x)\n",
    "print(\"variance of y : \", var_y)"
   ]
  },
  {
   "cell_type": "code",
   "execution_count": 5,
   "id": "rough-still",
   "metadata": {},
   "outputs": [
    {
     "name": "stdout",
     "output_type": "stream",
     "text": [
      "Rx,y :  4/9\n",
      "Covariance[X,Y] :  0\n",
      "Correlation Coefficient :  0\n"
     ]
    }
   ],
   "source": [
    "cor = Integral(Integral(marginal_x * marginal_y * x * y, (x, x_begin, x_end)).doit(), (y, y_begin, y_end)).doit()\n",
    "print(\"Rx,y : \", cor)\n",
    "Cov = cor - mu_x * mu_y\n",
    "print(\"Covariance[X,Y] : \", Cov)\n",
    "coe = Cov/(math.sqrt(var_y * var_x))\n",
    "assert -1 <= coe <= 1\n",
    "print(\"Correlation Coefficient : \", coe)"
   ]
  },
  {
   "cell_type": "code",
   "execution_count": null,
   "id": "challenging-bangladesh",
   "metadata": {},
   "outputs": [],
   "source": []
  }
 ],
 "metadata": {
  "kernelspec": {
   "display_name": "Python 3",
   "language": "python",
   "name": "python3"
  },
  "language_info": {
   "codemirror_mode": {
    "name": "ipython",
    "version": 3
   },
   "file_extension": ".py",
   "mimetype": "text/x-python",
   "name": "python",
   "nbconvert_exporter": "python",
   "pygments_lexer": "ipython3",
   "version": "3.9.2"
  }
 },
 "nbformat": 4,
 "nbformat_minor": 5
}
